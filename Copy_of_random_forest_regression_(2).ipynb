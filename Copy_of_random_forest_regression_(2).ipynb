{
  "nbformat": 4,
  "nbformat_minor": 0,
  "metadata": {
    "colab": {
      "name": "Copy of random_forest_regression (2).ipynb",
      "provenance": [],
      "collapsed_sections": [],
      "toc_visible": true,
      "include_colab_link": true
    },
    "kernelspec": {
      "name": "python3",
      "display_name": "Python 3"
    }
  },
  "cells": [
    {
      "cell_type": "markdown",
      "metadata": {
        "id": "view-in-github",
        "colab_type": "text"
      },
      "source": [
        "<a href=\"https://colab.research.google.com/github/Raghad770/board-game/blob/main/Copy_of_random_forest_regression_(2).ipynb\" target=\"_parent\"><img src=\"https://colab.research.google.com/assets/colab-badge.svg\" alt=\"Open In Colab\"/></a>"
      ]
    },
    {
      "cell_type": "markdown",
      "metadata": {
        "id": "LeamvpPVXuS_"
      },
      "source": [
        "# Random Forest Regression"
      ]
    },
    {
      "cell_type": "markdown",
      "metadata": {
        "id": "O2wvZ7SKXzVC"
      },
      "source": [
        "## Importing the libraries"
      ]
    },
    {
      "cell_type": "code",
      "metadata": {
        "id": "PVmESEFZX4Ig"
      },
      "source": [
        "import numpy as np\n",
        "import matplotlib.pyplot as plt\n",
        "import pandas as pd"
      ],
      "execution_count": 29,
      "outputs": []
    },
    {
      "cell_type": "markdown",
      "metadata": {
        "id": "zgbK_F8-X7em"
      },
      "source": [
        "## Importing the dataset"
      ]
    },
    {
      "cell_type": "code",
      "metadata": {
        "id": "adBE4tjQX_Bh",
        "colab": {
          "base_uri": "https://localhost:8080/",
          "height": 265
        },
        "outputId": "917c9cad-dddc-4b81-c6a4-3808af744154"
      },
      "source": [
        "dataset = pd.read_csv('games.csv')\n",
        "\n",
        "dataset.drop('type',inplace=True,axis=1)\n",
        "dataset.drop('name',inplace=True,axis=1)\n",
        "dataset.drop('id',inplace=True,axis=1)\n",
        "dataset.drop(\"bayes_average_rating\",inplace=True,axis=1)\n",
        "plt.hist(dataset[\"average_rating\"])\n",
        "\n",
        "# Show the plot.\n",
        "plt.show()\n",
        "\n",
        "y = dataset.loc[:,\"average_rating\" ].values\n",
        "dataset.drop(\"average_rating\",inplace=True,axis=1)\n",
        "X=dataset.iloc[:,:]"
      ],
      "execution_count": 30,
      "outputs": [
        {
          "output_type": "display_data",
          "data": {
            "image/png": "[encoded data removed]",
            "text/plain": [
              "<Figure size 432x288 with 1 Axes>"
            ]
          },
          "metadata": {
            "tags": [],
            "needs_background": "light"
          }
        }
      ]
    },
    {
      "cell_type": "code",
      "metadata": {
        "colab": {
          "base_uri": "https://localhost:8080/"
        },
        "id": "w8Rva-W417zt",
        "outputId": "4e4355c5-fd4a-4f7b-8544-3808d7554f41"
      },
      "source": [
        "print(X)\n",
        "print(y)"
      ],
      "execution_count": 31,
      "outputs": [
        {
          "output_type": "stream",
          "text": [
            "       yearpublished  minplayers  ...  total_weights  average_weight\n",
            "0             2005.0         2.0  ...           2562          3.4785\n",
            "1             2012.0         2.0  ...           1423          3.8939\n",
            "2             2013.0         1.0  ...            777          3.7761\n",
            "3             2006.0         2.0  ...           1642          4.1590\n",
            "4             2002.0         2.0  ...           5213          3.2943\n",
            "...              ...         ...  ...            ...             ...\n",
            "81307         2015.0         1.0  ...              0          0.0000\n",
            "81308         2013.0         2.0  ...              0          0.0000\n",
            "81309         2015.0         2.0  ...              0          0.0000\n",
            "81310         2015.0         2.0  ...              0          0.0000\n",
            "81311         2010.0         1.0  ...              0          0.0000\n",
            "\n",
            "[81312 rows x 15 columns]\n",
            "[8.34 8.29 8.29 ... 0.   0.   0.  ]\n"
          ],
          "name": "stdout"
        }
      ]
    },
    {
      "cell_type": "code",
      "metadata": {
        "id": "aaAMCcYGfZsg",
        "colab": {
          "base_uri": "https://localhost:8080/"
        },
        "outputId": "b80d8065-892b-4267-ff5d-f8c648cf425c"
      },
      "source": [
        "from sklearn.impute import SimpleImputer\n",
        "shape=dataset.shape\n",
        "imputer = SimpleImputer(missing_values=np.nan, strategy='mean')\n",
        "imputer.fit(X)\n",
        "X = imputer.transform(X)\n",
        "print(X)"
      ],
      "execution_count": 32,
      "outputs": [
        {
          "output_type": "stream",
          "text": [
            "[[2.00e+03 2.00e+00 2.00e+00 ... 5.35e+03 2.56e+03 3.48e+00]\n",
            " [2.01e+03 2.00e+00 5.00e+00 ... 2.53e+03 1.42e+03 3.89e+00]\n",
            " [2.01e+03 1.00e+00 7.00e+00 ... 1.70e+03 7.77e+02 3.78e+00]\n",
            " ...\n",
            " [2.02e+03 2.00e+00 1.50e+01 ... 0.00e+00 0.00e+00 0.00e+00]\n",
            " [2.02e+03 2.00e+00 4.00e+00 ... 0.00e+00 0.00e+00 0.00e+00]\n",
            " [2.01e+03 1.00e+00 6.00e+00 ... 0.00e+00 0.00e+00 0.00e+00]]\n"
          ],
          "name": "stdout"
        }
      ]
    },
    {
      "cell_type": "markdown",
      "metadata": {
        "id": "ptNjcy7bOBlD"
      },
      "source": [
        "## Splitting the dataset into the Training set and Test set"
      ]
    },
    {
      "cell_type": "code",
      "metadata": {
        "id": "C7NdofoCOFQF"
      },
      "source": [
        "from sklearn.model_selection import train_test_split\n",
        "X_train, X_test, y_train, y_test = train_test_split(X, y, test_size = 0.2, random_state = 0)"
      ],
      "execution_count": 33,
      "outputs": []
    },
    {
      "cell_type": "markdown",
      "metadata": {
        "id": "v4S2fyIBYDcu"
      },
      "source": [
        "## Training the Random Forest Regression model on the whole dataset"
      ]
    },
    {
      "cell_type": "code",
      "metadata": {
        "id": "o8dOCoJ1YKMc",
        "colab": {
          "base_uri": "https://localhost:8080/"
        },
        "outputId": "96090f00-2429-4e5e-fc24-e590746673f7"
      },
      "source": [
        "from sklearn.ensemble import RandomForestRegressor\n",
        "regressor = RandomForestRegressor(n_estimators = 100, random_state = 0)\n",
        "regressor.fit(X_train, y_train)"
      ],
      "execution_count": 34,
      "outputs": [
        {
          "output_type": "execute_result",
          "data": {
            "text/plain": [
              "RandomForestRegressor(bootstrap=True, ccp_alpha=0.0, criterion='mse',\n",
              "                      max_depth=None, max_features='auto', max_leaf_nodes=None,\n",
              "                      max_samples=None, min_impurity_decrease=0.0,\n",
              "                      min_impurity_split=None, min_samples_leaf=1,\n",
              "                      min_samples_split=2, min_weight_fraction_leaf=0.0,\n",
              "                      n_estimators=100, n_jobs=None, oob_score=False,\n",
              "                      random_state=0, verbose=0, warm_start=False)"
            ]
          },
          "metadata": {
            "tags": []
          },
          "execution_count": 34
        }
      ]
    },
    {
      "cell_type": "markdown",
      "metadata": {
        "id": "DM_jh0frOPKE"
      },
      "source": [
        "## Predicting the Test set results"
      ]
    },
    {
      "cell_type": "code",
      "metadata": {
        "id": "JGa9ZfM4OTNw",
        "colab": {
          "base_uri": "https://localhost:8080/"
        },
        "outputId": "1e939a70-88e5-4998-abaa-8ea3057902db"
      },
      "source": [
        "y_pred = regressor.predict(X_test)\n",
        "np.set_printoptions(precision=2)\n",
        "print(np.concatenate((y_pred.reshape(len(y_pred),1), y_test.reshape(len(y_test),1)),1))"
      ],
      "execution_count": 35,
      "outputs": [
        {
          "output_type": "stream",
          "text": [
            "[[4.73 4.  ]\n",
            " [6.31 5.38]\n",
            " [0.   0.  ]\n",
            " ...\n",
            " [5.22 1.5 ]\n",
            " [3.   3.  ]\n",
            " [5.05 5.53]]\n"
          ],
          "name": "stdout"
        }
      ]
    },
    {
      "cell_type": "code",
      "metadata": {
        "id": "56DlHlv_45V8"
      },
      "source": [
        "y_single_pred=regressor.predict(X_test[[0]])"
      ],
      "execution_count": 36,
      "outputs": []
    },
    {
      "cell_type": "markdown",
      "metadata": {
        "id": "Cd8VZM5POWXN"
      },
      "source": [
        "## Evaluating the Model Performance"
      ]
    },
    {
      "cell_type": "code",
      "metadata": {
        "id": "a7y1rXlfOZJo",
        "colab": {
          "base_uri": "https://localhost:8080/"
        },
        "outputId": "ff65db2f-f0dc-4b9c-8064-6d89873edb7c"
      },
      "source": [
        "from sklearn.metrics import r2_score\n",
        "r2_score(y_test, y_pred)"
      ],
      "execution_count": 37,
      "outputs": [
        {
          "output_type": "execute_result",
          "data": {
            "text/plain": [
              "0.8881192692399998"
            ]
          },
          "metadata": {
            "tags": []
          },
          "execution_count": 37
        }
      ]
    }
  ]
}